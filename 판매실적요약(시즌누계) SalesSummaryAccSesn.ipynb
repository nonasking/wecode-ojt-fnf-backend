{
 "cells": [
  {
   "cell_type": "code",
   "execution_count": 2,
   "id": "28a13ff4",
   "metadata": {},
   "outputs": [],
   "source": [
    "import psycopg2"
   ]
  },
  {
   "cell_type": "code",
   "execution_count": 3,
   "id": "6394ccb7",
   "metadata": {},
   "outputs": [],
   "source": [
    "connect = psycopg2.connect(dbname=\"fnf\", host=\"prd-dt-redshift.conhugwtudej.ap-northeast-2.redshift.amazonaws.com\", port=5439, user=\"wecode\", password=\"Wecode@2022!#\")"
   ]
  },
  {
   "cell_type": "code",
   "execution_count": 4,
   "id": "42202ed8",
   "metadata": {},
   "outputs": [],
   "source": [
    "cursor = connect.cursor()"
   ]
  },
  {
   "cell_type": "code",
   "execution_count": 5,
   "id": "b992d88a",
   "metadata": {},
   "outputs": [],
   "source": [
    "brand = 'M'\n",
    "season = \"'22S'\"\n",
    "season_py = \"'21S'\"\n",
    "season_py2 = \"'20S'\"\n",
    "category = '맨투맨'\n",
    "sub_category = \"'후드','맨투맨'\"\n",
    "adult_kids = '성인'\n",
    "start_dt = '2021-12-28'\n",
    "end_dt = '2022-02-06'\n",
    "end_dt_this_week = '2022-02-06'"
   ]
  },
  {
   "cell_type": "code",
   "execution_count": 6,
   "id": "6d0508e9",
   "metadata": {},
   "outputs": [],
   "source": [
    "query = \"\"\"\n",
    "\n",
    "with sale as (\n",
    "    select '당해'                                         term_cls\n",
    "         , ac_stor_qty_kor                           as ac_stor_qty_kor\n",
    "         , sale_nml_qty_cns + sale_ret_qty_cns       as sale_qty_kor\n",
    "         , ac_sale_nml_qty_cns + ac_sale_ret_qty_cns as ac_sale_qty_kor\n",
    "         , stock_qty                                 as stock_qty\n",
    "    from prcs.db_scs_w a,\n",
    "         prcs.db_prdt b\n",
    "    where a.prdt_cd = b.prdt_cd\n",
    "      and a.brd_cd = '{para_brand}'\n",
    "      and a.sesn in ({para_season}) --당해\n",
    "      and cat_nm = '{para_category}'\n",
    "      and sub_cat_nm in ({para_sub_category})\n",
    "      and adult_kids_nm = '{para_adult_kids}'\n",
    "      and end_dt = '{para_end_dt_this_week}'\n",
    "    union all\n",
    "    select '전년'                                         term_cls\n",
    "         , ac_stor_qty_kor                           as ac_stor_qty_kor\n",
    "         , sale_nml_qty_cns + sale_ret_qty_cns       as sale_qty_kor\n",
    "         , ac_sale_nml_qty_cns + ac_sale_ret_qty_cns as ac_sale_qty_kor\n",
    "         , stock_qty                                 as stock_qty\n",
    "    from prcs.db_scs_w a,\n",
    "         prcs.db_prdt b\n",
    "    where a.prdt_cd = b.prdt_cd\n",
    "      and a.brd_cd = '{para_brand}'\n",
    "      and a.sesn in ({para_season_py}) --전년\n",
    "      and cat_nm = '{para_category}'\n",
    "      and sub_cat_nm in ({para_sub_category})\n",
    "      and adult_kids_nm = '{para_adult_kids}'\n",
    "      and end_dt = '{para_end_dt_this_week}' - 364\n",
    "),\n",
    "     order_status as (\n",
    "         select '당해'  as term_cls\n",
    "              , b.qty as indc_qty\n",
    "         from prcs.dw_ord a,\n",
    "              prcs.dw_ord_scs b,\n",
    "              prcs.db_prdt c\n",
    "         where a.prdt_cd = b.prdt_cd\n",
    "           and a.po_no = b.po_no\n",
    "           and a.prdt_cd = c.prdt_cd\n",
    "           and a.brd_cd = '{para_brand}'\n",
    "           and a.sesn in ({para_season}) --당해\n",
    "           and cat_nm = '{para_category}'\n",
    "           and sub_cat_nm in ({para_sub_category})\n",
    "           and adult_kids_nm = '{para_adult_kids}'\n",
    "           and apv_stat = 'C'\n",
    "           and po_cntry in ('A', 'KR')\n",
    "           and po_cust_cntry != 'M'\n",
    "           and apv_dt <= '{para_end_dt_this_week}'\n",
    "         union all\n",
    "         select '전년'  as term_cls\n",
    "              , b.qty as indc_qty\n",
    "         from prcs.dw_ord a,\n",
    "              prcs.dw_ord_scs b,\n",
    "              prcs.db_prdt c\n",
    "         where a.prdt_cd = b.prdt_cd\n",
    "           and a.po_no = b.po_no\n",
    "           and a.prdt_cd = c.prdt_cd\n",
    "           and a.brd_cd = '{para_brand}'\n",
    "           and a.sesn in ({para_season_py}) --전년\n",
    "           and cat_nm = '{para_category}'\n",
    "           and sub_cat_nm in ({para_sub_category})\n",
    "           and adult_kids_nm = '{para_adult_kids}'\n",
    "           and po_cntry in ('A', 'KR')\n",
    "           and po_cust_cntry != 'M'\n",
    "           and apv_stat = 'C'\n",
    "           and apv_dt <= '{para_end_dt_this_week}' - 364\n",
    "     ),\n",
    "     season_end as (\n",
    "         select '전년'                                         term_cls\n",
    "              , ac_stor_qty_kor                           as ac_stor_qty_kor_season_end\n",
    "              , ac_sale_nml_qty_cns + ac_sale_ret_qty_cns as ac_sale_qty_kor_season_end\n",
    "              , stock_qty                                 as stock_qty_season_end\n",
    "         from prcs.db_scs_w a,\n",
    "              prcs.db_prdt b\n",
    "         where a.prdt_cd = b.prdt_cd\n",
    "           and a.brd_cd = '{para_brand}'\n",
    "           and a.sesn in ({para_season_py}) --전년\n",
    "           and cat_nm = '{para_category}'\n",
    "           and sub_cat_nm in ({para_sub_category})\n",
    "           and adult_kids_nm = '{para_adult_kids}'\n",
    "           and (\n",
    "             select max(last_week)\n",
    "             from (\n",
    "                      select case\n",
    "                                 when substring(a.sesn, 3, 1) = 'S'\n",
    "                                     then date(date_trunc('week', date('20' || substring(a.sesn, 1, 2) || '0901'))) + 6\n",
    "                                 when substring(a.sesn, 3, 1) = 'F'\n",
    "                                     then\n",
    "                                     date(date_trunc('week', date('20' || substring(a.sesn, 1, 2)::integer + 1 || '0301'))) + 6\n",
    "                                 else\n",
    "                                     date(date_trunc('week', date('20' || substring(a.sesn, 1, 2) || '1231'))) + 6\n",
    "                                 end as last_week\n",
    "                      from prcs.db_scs_w a,\n",
    "                           prcs.db_prdt b\n",
    "                      where a.brd_cd = b.brd_cd\n",
    "                        and a.prdt_cd = b.prdt_cd\n",
    "                        and a.brd_cd = '{para_brand}'\n",
    "                        and cat_nm = '{para_category}'\n",
    "                        and adult_kids_nm = '{para_adult_kids}'\n",
    "                        and sub_cat_nm in ({para_sub_category})\n",
    "                        and a.sesn in ({para_season_py})\n",
    "                  ) a\n",
    "         ) between start_dt and end_dt)\n",
    "select term_cls,\n",
    "       sum(indc_qty)                   as indc_qty,\n",
    "       sum(ac_stor_qty_kor)            as ac_stor_qty_kor,\n",
    "       sum(sale_qty_kor)               as sale_qty_kor,\n",
    "       sum(ac_sale_qty_kor)            as ac_sale_qty_kor,\n",
    "       sum(stock_qty)                  as stock_qty,\n",
    "       sum(ac_stor_qty_kor_season_end) as ac_stor_qty_kor_season_end,\n",
    "       sum(ac_sale_qty_kor_season_end) as ac_sale_qty_kor_season_end,\n",
    "       sum(stock_qty_season_end)       as stock_qty_season_end\n",
    "from (\n",
    "         select term_cls\n",
    "              , indc_qty\n",
    "              , 0 as ac_stor_qty_kor\n",
    "              , 0 as sale_qty_kor\n",
    "              , 0 as ac_sale_qty_kor\n",
    "              , 0 as stock_qty\n",
    "              , 0 as ac_stor_qty_kor_season_end\n",
    "              , 0 as ac_sale_qty_kor_season_end\n",
    "              , 0 as stock_qty_season_end\n",
    "         from order_status\n",
    "         union all\n",
    "         select term_cls\n",
    "              , 0 as indc_qty\n",
    "              , ac_stor_qty_kor\n",
    "              , sale_qty_kor\n",
    "              , ac_sale_qty_kor\n",
    "              , stock_qty\n",
    "              , 0 as ac_stor_qty_kor_season_end\n",
    "              , 0 as ac_sale_qty_kor_season_end\n",
    "              , 0 as stock_qty_season_end\n",
    "         from sale\n",
    "         union all\n",
    "         select term_cls\n",
    "              , 0 as indc_qty\n",
    "              , 0 as ac_stor_qty_kor\n",
    "              , 0 as sale_qty_kor\n",
    "              , 0 as ac_sale_qty_kor\n",
    "              , 0 as stock_qty\n",
    "              , ac_stor_qty_kor_season_end\n",
    "              , ac_sale_qty_kor_season_end\n",
    "              , stock_qty_season_end\n",
    "         from season_end\n",
    "     ) a\n",
    "group by term_cls\n",
    "order by term_cls\n",
    "\n",
    "        \"\"\".format(\n",
    "            para_brand=brand,\n",
    "            para_season=season,\n",
    "            para_season_py=season_py,\n",
    "            para_season_py2=season_py2,\n",
    "            para_category=category,\n",
    "            para_sub_category=sub_category,\n",
    "            para_adult_kids=adult_kids,\n",
    "            para_start_dt=start_dt,\n",
    "            para_end_dt=end_dt,\n",
    "            para_end_dt_this_week=end_dt_this_week,\n",
    "        )"
   ]
  },
  {
   "cell_type": "code",
   "execution_count": 7,
   "id": "eed5b0b3",
   "metadata": {},
   "outputs": [],
   "source": [
    "cursor.execute(query)"
   ]
  },
  {
   "cell_type": "code",
   "execution_count": 9,
   "id": "457ac6b8",
   "metadata": {},
   "outputs": [],
   "source": [
    "cursor.execute(\"ROLLBACK\")\n",
    "connect.commit()"
   ]
  },
  {
   "cell_type": "code",
   "execution_count": 8,
   "id": "540098cf",
   "metadata": {},
   "outputs": [],
   "source": [
    "query_output = cursor.fetchall()"
   ]
  },
  {
   "cell_type": "code",
   "execution_count": 9,
   "id": "0a61bed5",
   "metadata": {},
   "outputs": [
    {
     "data": {
      "text/plain": [
       "[('당해', 222792, 214035, 7257, 67134, 152673, 0, 0, 0),\n",
       " ('전년', 244505, 133471, 11616, 63499, 73050, 251980, 185803, 53699)]"
      ]
     },
     "execution_count": 9,
     "metadata": {},
     "output_type": "execute_result"
    }
   ],
   "source": [
    "query_output"
   ]
  },
  {
   "cell_type": "code",
   "execution_count": 10,
   "id": "ce3c1ba3",
   "metadata": {},
   "outputs": [],
   "source": [
    "from utils.redshift_data import RedshiftData"
   ]
  },
  {
   "cell_type": "code",
   "execution_count": 11,
   "id": "f2966d63",
   "metadata": {},
   "outputs": [],
   "source": [
    "import pandas.io.sql as psql"
   ]
  },
  {
   "cell_type": "code",
   "execution_count": 12,
   "id": "186b385a",
   "metadata": {},
   "outputs": [],
   "source": [
    "redshift_data = RedshiftData(connect, query)"
   ]
  },
  {
   "cell_type": "code",
   "execution_count": 13,
   "id": "5f95014e",
   "metadata": {},
   "outputs": [
    {
     "name": "stderr",
     "output_type": "stream",
     "text": [
      "/opt/homebrew/Caskroom/miniconda/base/envs/fnf/lib/python3.8/site-packages/pandas/io/sql.py:758: UserWarning: pandas only support SQLAlchemy connectable(engine/connection) ordatabase string URI or sqlite3 DBAPI2 connectionother DBAPI2 objects are not tested, please consider using SQLAlchemy\n",
      "  warnings.warn(\n"
     ]
    }
   ],
   "source": [
    "data = redshift_data.get_data()"
   ]
  },
  {
   "cell_type": "code",
   "execution_count": 14,
   "id": "507a0b23",
   "metadata": {},
   "outputs": [
    {
     "data": {
      "text/html": [
       "<div>\n",
       "<style scoped>\n",
       "    .dataframe tbody tr th:only-of-type {\n",
       "        vertical-align: middle;\n",
       "    }\n",
       "\n",
       "    .dataframe tbody tr th {\n",
       "        vertical-align: top;\n",
       "    }\n",
       "\n",
       "    .dataframe thead th {\n",
       "        text-align: right;\n",
       "    }\n",
       "</style>\n",
       "<table border=\"1\" class=\"dataframe\">\n",
       "  <thead>\n",
       "    <tr style=\"text-align: right;\">\n",
       "      <th></th>\n",
       "      <th>term_cls</th>\n",
       "      <th>indc_qty</th>\n",
       "      <th>ac_stor_qty_kor</th>\n",
       "      <th>sale_qty_kor</th>\n",
       "      <th>ac_sale_qty_kor</th>\n",
       "      <th>stock_qty</th>\n",
       "      <th>ac_stor_qty_kor_season_end</th>\n",
       "      <th>ac_sale_qty_kor_season_end</th>\n",
       "      <th>stock_qty_season_end</th>\n",
       "    </tr>\n",
       "  </thead>\n",
       "  <tbody>\n",
       "    <tr>\n",
       "      <th>0</th>\n",
       "      <td>당해</td>\n",
       "      <td>222792</td>\n",
       "      <td>214035</td>\n",
       "      <td>7257</td>\n",
       "      <td>67134</td>\n",
       "      <td>152673</td>\n",
       "      <td>0</td>\n",
       "      <td>0</td>\n",
       "      <td>0</td>\n",
       "    </tr>\n",
       "    <tr>\n",
       "      <th>1</th>\n",
       "      <td>전년</td>\n",
       "      <td>244505</td>\n",
       "      <td>133471</td>\n",
       "      <td>11616</td>\n",
       "      <td>63499</td>\n",
       "      <td>73050</td>\n",
       "      <td>251980</td>\n",
       "      <td>185803</td>\n",
       "      <td>53699</td>\n",
       "    </tr>\n",
       "  </tbody>\n",
       "</table>\n",
       "</div>"
      ],
      "text/plain": [
       "  term_cls  indc_qty  ac_stor_qty_kor  sale_qty_kor  ac_sale_qty_kor  \\\n",
       "0       당해    222792           214035          7257            67134   \n",
       "1       전년    244505           133471         11616            63499   \n",
       "\n",
       "   stock_qty  ac_stor_qty_kor_season_end  ac_sale_qty_kor_season_end  \\\n",
       "0     152673                           0                           0   \n",
       "1      73050                      251980                      185803   \n",
       "\n",
       "   stock_qty_season_end  \n",
       "0                     0  \n",
       "1                 53699  "
      ]
     },
     "execution_count": 14,
     "metadata": {},
     "output_type": "execute_result"
    }
   ],
   "source": [
    "data"
   ]
  },
  {
   "cell_type": "code",
   "execution_count": 15,
   "id": "328aead7",
   "metadata": {},
   "outputs": [
    {
     "data": {
      "text/plain": [
       "0    67134\n",
       "1    63499\n",
       "Name: ac_sale_qty_kor, dtype: int64"
      ]
     },
     "execution_count": 15,
     "metadata": {},
     "output_type": "execute_result"
    }
   ],
   "source": [
    "data[\"ac_sale_qty_kor\"]"
   ]
  },
  {
   "cell_type": "code",
   "execution_count": 20,
   "id": "158499c0",
   "metadata": {},
   "outputs": [
    {
     "data": {
      "text/plain": [
       "0    214035\n",
       "1    133471\n",
       "Name: ac_stor_qty_kor, dtype: int64"
      ]
     },
     "execution_count": 20,
     "metadata": {},
     "output_type": "execute_result"
    }
   ],
   "source": [
    "data[\"ac_stor_qty_kor\"]"
   ]
  },
  {
   "cell_type": "code",
   "execution_count": 21,
   "id": "cd09ea9e",
   "metadata": {},
   "outputs": [
    {
     "data": {
      "text/plain": [
       "31.365898100777912"
      ]
     },
     "execution_count": 21,
     "metadata": {},
     "output_type": "execute_result"
    }
   ],
   "source": [
    "67134/214035 * 100"
   ]
  },
  {
   "cell_type": "code",
   "execution_count": 22,
   "id": "67df74c0",
   "metadata": {},
   "outputs": [
    {
     "data": {
      "text/html": [
       "<div>\n",
       "<style scoped>\n",
       "    .dataframe tbody tr th:only-of-type {\n",
       "        vertical-align: middle;\n",
       "    }\n",
       "\n",
       "    .dataframe tbody tr th {\n",
       "        vertical-align: top;\n",
       "    }\n",
       "\n",
       "    .dataframe thead th {\n",
       "        text-align: right;\n",
       "    }\n",
       "</style>\n",
       "<table border=\"1\" class=\"dataframe\">\n",
       "  <thead>\n",
       "    <tr style=\"text-align: right;\">\n",
       "      <th></th>\n",
       "      <th>term_cls</th>\n",
       "      <th>indc_qty</th>\n",
       "      <th>ac_stor_qty_kor</th>\n",
       "      <th>sale_qty_kor</th>\n",
       "      <th>ac_sale_qty_kor</th>\n",
       "      <th>stock_qty</th>\n",
       "      <th>ac_stor_qty_kor_season_end</th>\n",
       "      <th>ac_sale_qty_kor_season_end</th>\n",
       "      <th>stock_qty_season_end</th>\n",
       "    </tr>\n",
       "  </thead>\n",
       "  <tbody>\n",
       "    <tr>\n",
       "      <th>0</th>\n",
       "      <td>당해</td>\n",
       "      <td>222792</td>\n",
       "      <td>214035</td>\n",
       "      <td>7257</td>\n",
       "      <td>67134</td>\n",
       "      <td>152673</td>\n",
       "      <td>0</td>\n",
       "      <td>0</td>\n",
       "      <td>0</td>\n",
       "    </tr>\n",
       "    <tr>\n",
       "      <th>1</th>\n",
       "      <td>전년</td>\n",
       "      <td>244505</td>\n",
       "      <td>133471</td>\n",
       "      <td>11616</td>\n",
       "      <td>63499</td>\n",
       "      <td>73050</td>\n",
       "      <td>251980</td>\n",
       "      <td>185803</td>\n",
       "      <td>53699</td>\n",
       "    </tr>\n",
       "  </tbody>\n",
       "</table>\n",
       "</div>"
      ],
      "text/plain": [
       "  term_cls  indc_qty  ac_stor_qty_kor  sale_qty_kor  ac_sale_qty_kor  \\\n",
       "0       당해    222792           214035          7257            67134   \n",
       "1       전년    244505           133471         11616            63499   \n",
       "\n",
       "   stock_qty  ac_stor_qty_kor_season_end  ac_sale_qty_kor_season_end  \\\n",
       "0     152673                           0                           0   \n",
       "1      73050                      251980                      185803   \n",
       "\n",
       "   stock_qty_season_end  \n",
       "0                     0  \n",
       "1                 53699  "
      ]
     },
     "execution_count": 22,
     "metadata": {},
     "output_type": "execute_result"
    }
   ],
   "source": [
    "data"
   ]
  },
  {
   "cell_type": "code",
   "execution_count": 49,
   "id": "df35f020",
   "metadata": {},
   "outputs": [],
   "source": [
    "data['sales_rate'] = round((data['ac_sale_qty_kor']/data['ac_stor_qty_kor'])*100,0)"
   ]
  },
  {
   "cell_type": "code",
   "execution_count": 50,
   "id": "0b4e8050",
   "metadata": {},
   "outputs": [],
   "source": [
    "data[\"season_end_sales_rate\"] = round((data[\"ac_sale_qty_kor_season_end\"]/data[\"ac_stor_qty_kor_season_end\"])*100,0)"
   ]
  },
  {
   "cell_type": "code",
   "execution_count": 51,
   "id": "8086f796",
   "metadata": {},
   "outputs": [
    {
     "data": {
      "text/html": [
       "<div>\n",
       "<style scoped>\n",
       "    .dataframe tbody tr th:only-of-type {\n",
       "        vertical-align: middle;\n",
       "    }\n",
       "\n",
       "    .dataframe tbody tr th {\n",
       "        vertical-align: top;\n",
       "    }\n",
       "\n",
       "    .dataframe thead th {\n",
       "        text-align: right;\n",
       "    }\n",
       "</style>\n",
       "<table border=\"1\" class=\"dataframe\">\n",
       "  <thead>\n",
       "    <tr style=\"text-align: right;\">\n",
       "      <th></th>\n",
       "      <th>term_cls</th>\n",
       "      <th>indc_qty</th>\n",
       "      <th>ac_stor_qty_kor</th>\n",
       "      <th>sale_qty_kor</th>\n",
       "      <th>ac_sale_qty_kor</th>\n",
       "      <th>stock_qty</th>\n",
       "      <th>ac_stor_qty_kor_season_end</th>\n",
       "      <th>ac_sale_qty_kor_season_end</th>\n",
       "      <th>stock_qty_season_end</th>\n",
       "      <th>sales_rate</th>\n",
       "      <th>season_end_sales_rate</th>\n",
       "    </tr>\n",
       "  </thead>\n",
       "  <tbody>\n",
       "    <tr>\n",
       "      <th>0</th>\n",
       "      <td>당해</td>\n",
       "      <td>222792</td>\n",
       "      <td>214035</td>\n",
       "      <td>7257</td>\n",
       "      <td>67134</td>\n",
       "      <td>152673</td>\n",
       "      <td>0</td>\n",
       "      <td>0</td>\n",
       "      <td>0</td>\n",
       "      <td>31.0</td>\n",
       "      <td>NaN</td>\n",
       "    </tr>\n",
       "    <tr>\n",
       "      <th>1</th>\n",
       "      <td>전년</td>\n",
       "      <td>244505</td>\n",
       "      <td>133471</td>\n",
       "      <td>11616</td>\n",
       "      <td>63499</td>\n",
       "      <td>73050</td>\n",
       "      <td>251980</td>\n",
       "      <td>185803</td>\n",
       "      <td>53699</td>\n",
       "      <td>48.0</td>\n",
       "      <td>74.0</td>\n",
       "    </tr>\n",
       "  </tbody>\n",
       "</table>\n",
       "</div>"
      ],
      "text/plain": [
       "  term_cls  indc_qty  ac_stor_qty_kor  sale_qty_kor  ac_sale_qty_kor  \\\n",
       "0       당해    222792           214035          7257            67134   \n",
       "1       전년    244505           133471         11616            63499   \n",
       "\n",
       "   stock_qty  ac_stor_qty_kor_season_end  ac_sale_qty_kor_season_end  \\\n",
       "0     152673                           0                           0   \n",
       "1      73050                      251980                      185803   \n",
       "\n",
       "   stock_qty_season_end  sales_rate  season_end_sales_rate  \n",
       "0                     0        31.0                    NaN  \n",
       "1                 53699        48.0                   74.0  "
      ]
     },
     "execution_count": 51,
     "metadata": {},
     "output_type": "execute_result"
    }
   ],
   "source": [
    "data"
   ]
  },
  {
   "cell_type": "code",
   "execution_count": 52,
   "id": "b7cb9ed2",
   "metadata": {},
   "outputs": [],
   "source": [
    "data.fillna(0, inplace=True)"
   ]
  },
  {
   "cell_type": "code",
   "execution_count": 53,
   "id": "60781644",
   "metadata": {},
   "outputs": [
    {
     "data": {
      "text/html": [
       "<div>\n",
       "<style scoped>\n",
       "    .dataframe tbody tr th:only-of-type {\n",
       "        vertical-align: middle;\n",
       "    }\n",
       "\n",
       "    .dataframe tbody tr th {\n",
       "        vertical-align: top;\n",
       "    }\n",
       "\n",
       "    .dataframe thead th {\n",
       "        text-align: right;\n",
       "    }\n",
       "</style>\n",
       "<table border=\"1\" class=\"dataframe\">\n",
       "  <thead>\n",
       "    <tr style=\"text-align: right;\">\n",
       "      <th></th>\n",
       "      <th>term_cls</th>\n",
       "      <th>indc_qty</th>\n",
       "      <th>ac_stor_qty_kor</th>\n",
       "      <th>sale_qty_kor</th>\n",
       "      <th>ac_sale_qty_kor</th>\n",
       "      <th>stock_qty</th>\n",
       "      <th>ac_stor_qty_kor_season_end</th>\n",
       "      <th>ac_sale_qty_kor_season_end</th>\n",
       "      <th>stock_qty_season_end</th>\n",
       "      <th>sales_rate</th>\n",
       "      <th>season_end_sales_rate</th>\n",
       "    </tr>\n",
       "  </thead>\n",
       "  <tbody>\n",
       "    <tr>\n",
       "      <th>0</th>\n",
       "      <td>당해</td>\n",
       "      <td>222792</td>\n",
       "      <td>214035</td>\n",
       "      <td>7257</td>\n",
       "      <td>67134</td>\n",
       "      <td>152673</td>\n",
       "      <td>0</td>\n",
       "      <td>0</td>\n",
       "      <td>0</td>\n",
       "      <td>31.0</td>\n",
       "      <td>0.0</td>\n",
       "    </tr>\n",
       "    <tr>\n",
       "      <th>1</th>\n",
       "      <td>전년</td>\n",
       "      <td>244505</td>\n",
       "      <td>133471</td>\n",
       "      <td>11616</td>\n",
       "      <td>63499</td>\n",
       "      <td>73050</td>\n",
       "      <td>251980</td>\n",
       "      <td>185803</td>\n",
       "      <td>53699</td>\n",
       "      <td>48.0</td>\n",
       "      <td>74.0</td>\n",
       "    </tr>\n",
       "  </tbody>\n",
       "</table>\n",
       "</div>"
      ],
      "text/plain": [
       "  term_cls  indc_qty  ac_stor_qty_kor  sale_qty_kor  ac_sale_qty_kor  \\\n",
       "0       당해    222792           214035          7257            67134   \n",
       "1       전년    244505           133471         11616            63499   \n",
       "\n",
       "   stock_qty  ac_stor_qty_kor_season_end  ac_sale_qty_kor_season_end  \\\n",
       "0     152673                           0                           0   \n",
       "1      73050                      251980                      185803   \n",
       "\n",
       "   stock_qty_season_end  sales_rate  season_end_sales_rate  \n",
       "0                     0        31.0                    0.0  \n",
       "1                 53699        48.0                   74.0  "
      ]
     },
     "execution_count": 53,
     "metadata": {},
     "output_type": "execute_result"
    }
   ],
   "source": [
    "data"
   ]
  },
  {
   "cell_type": "code",
   "execution_count": null,
   "id": "860259bc",
   "metadata": {},
   "outputs": [],
   "source": []
  }
 ],
 "metadata": {
  "kernelspec": {
   "display_name": "Python 3 (ipykernel)",
   "language": "python",
   "name": "python3"
  },
  "language_info": {
   "codemirror_mode": {
    "name": "ipython",
    "version": 3
   },
   "file_extension": ".py",
   "mimetype": "text/x-python",
   "name": "python",
   "nbconvert_exporter": "python",
   "pygments_lexer": "ipython3",
   "version": "3.8.11"
  }
 },
 "nbformat": 4,
 "nbformat_minor": 5
}
