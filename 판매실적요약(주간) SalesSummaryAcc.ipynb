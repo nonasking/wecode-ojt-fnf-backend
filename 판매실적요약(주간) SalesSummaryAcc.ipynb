{
 "cells": [
  {
   "cell_type": "code",
   "execution_count": 42,
   "id": "64363ead",
   "metadata": {},
   "outputs": [],
   "source": [
    "import psycopg2"
   ]
  },
  {
   "cell_type": "code",
   "execution_count": 43,
   "id": "8b526a5c",
   "metadata": {},
   "outputs": [],
   "source": [
    "connect = psycopg2.connect(dbname=\"fnf\", host=\"prd-dt-redshift.conhugwtudej.ap-northeast-2.redshift.amazonaws.com\", port=5439, user=\"wecode\", password=\"Wecode@2022!#\")"
   ]
  },
  {
   "cell_type": "code",
   "execution_count": 44,
   "id": "54629993",
   "metadata": {},
   "outputs": [],
   "source": [
    "cursor = connect.cursor()"
   ]
  },
  {
   "cell_type": "code",
   "execution_count": 45,
   "id": "59e7f388",
   "metadata": {},
   "outputs": [],
   "source": [
    "brand = 'M'\n",
    "season = \"'22S'\"\n",
    "season_py = \"'21S'\"\n",
    "season_py2 = \"'20S'\"\n",
    "category = '맨투맨'\n",
    "sub_category = \"'후드','맨투맨'\"\n",
    "adult_kids = '성인'\n",
    "start_dt = '2021-12-28'\n",
    "end_dt = '2022-02-06'\n",
    "end_dt_this_week = '2022-02-06'"
   ]
  },
  {
   "cell_type": "code",
   "execution_count": 46,
   "id": "088a8814",
   "metadata": {},
   "outputs": [],
   "source": [
    "query = \"\"\"\n",
    "WITH int_stock AS (\n",
    "    SELECT '당해'         term_cls\n",
    "         , stock_qty AS int_stock_qty\n",
    "    FROM prcs.db_scs_w a,\n",
    "         prcs.db_prdt b\n",
    "    WHERE a.prdt_cd = b.prdt_cd\n",
    "      AND a.brd_cd = '{para_brand}'\n",
    "      AND a.sesn in ({para_season}) --당해\n",
    "      AND cat_nm = '{para_category}'\n",
    "      AND sub_cat_nm in ({para_sub_category})\n",
    "      AND adult_kids_nm = '{para_adult_kids}'\n",
    "      AND end_dt = '{para_end_dt_this_week}' - 7\n",
    "    UNION ALL\n",
    "    SELECT '전년'         term_cls\n",
    "         , stock_qty as int_stock_qty\n",
    "    FROM prcs.db_scs_w a,\n",
    "         prcs.db_prdt b\n",
    "    WHERE a.prdt_cd = b.prdt_cd\n",
    "      AND a.brd_cd = '{para_brand}'\n",
    "      AND a.sesn in ({para_season_py}) --전년\n",
    "      AND cat_nm = '{para_category}'\n",
    "      AND sub_cat_nm in ({para_sub_category})\n",
    "      AND adult_kids_nm = '{para_adult_kids}'\n",
    "      AND end_dt = '{para_end_dt_this_week}' - 364 - 7\n",
    "),\n",
    "     term_sales AS (\n",
    "         SELECT '당해'       term_cls\n",
    "              , stor_qty_kor                        AS stor_qty_kor_term\n",
    "              , sale_nml_qty_cns + sale_ret_qty_cns AS sale_qty_kor_term\n",
    "              , sale_nml_qty_cns + sale_ret_qty_cns AS sale_qty_w\n",
    "              , stock_qty                           AS stock_kor\n",
    "\n",
    "         FROM prcs.db_scs_w a,\n",
    "              prcs.db_prdt b\n",
    "         WHERE a.prdt_cd = b.prdt_cd\n",
    "           AND a.brd_cd = '{para_brand}'\n",
    "           AND a.sesn in ({para_season}) --당해\n",
    "           AND cat_nm = '{para_category}'\n",
    "           AND sub_cat_nm in ({para_sub_category})\n",
    "           AND adult_kids_nm = '{para_adult_kids}'\n",
    "           AND end_dt = '{para_end_dt_this_week}'\n",
    "         UNION ALL\n",
    "         SELECT '전년'       term_cls\n",
    "              , stor_qty_kor                        AS stor_qty_kor_term\n",
    "              , sale_nml_qty_cns + sale_ret_qty_cns AS sale_qty_kor_term\n",
    "              , sale_nml_qty_cns + sale_ret_qty_cns AS  sale_qty_w\n",
    "              , stock_qty                           AS stock_kor\n",
    "         FROM prcs.db_scs_w a,\n",
    "              prcs.db_prdt b\n",
    "         WHERE a.prdt_cd = b.prdt_cd\n",
    "           AND a.brd_cd = '{para_brand}'\n",
    "           AND a.sesn in ({para_season_py}) --전년\n",
    "           AND cat_nm = '{para_category}'\n",
    "           AND sub_cat_nm in ({para_sub_category})\n",
    "           AND adult_kids_nm = '{para_adult_kids}'\n",
    "           AND end_dt = '{para_end_dt_this_week}' - 364\n",
    "     ),\n",
    "\n",
    "     sale_4wk AS (\n",
    "         SELECT '당해'       term_cls\n",
    "              , sale_nml_qty_cns + sale_ret_qty_cns AS sale_qty_kor_4wk\n",
    "         FROM prcs.db_scs_w a,\n",
    "              prcs.db_prdt b\n",
    "         WHERE a.prdt_cd = b.prdt_cd\n",
    "           AND a.brd_cd = '{para_brand}'\n",
    "           AND a.sesn in ({para_season}) --당해\n",
    "           AND cat_nm = '{para_category}'\n",
    "           AND sub_cat_nm in ({para_sub_category})\n",
    "           AND adult_kids_nm = '{para_adult_kids}'\n",
    "           AND end_dt between '{para_end_dt_this_week}' - 7 * 3 AND '{para_end_dt_this_week}'\n",
    "         UNION ALL\n",
    "         SELECT '전년'       term_cls\n",
    "              , sale_nml_qty_cns + sale_ret_qty_cns AS sale_qty_kor_4wk\n",
    "         FROM prcs.db_scs_w a,\n",
    "              prcs.db_prdt b\n",
    "         WHERE a.prdt_cd = b.prdt_cd\n",
    "           AND a.brd_cd = '{para_brand}'\n",
    "           AND a.sesn in ({para_season_py}) --전년\n",
    "           AND cat_nm = '{para_category}'\n",
    "           AND sub_cat_nm in ({para_sub_category})\n",
    "           AND adult_kids_nm = '{para_adult_kids}'\n",
    "           AND end_dt between '{para_end_dt_this_week}' - 364 - 7 * 3 AND '{para_end_dt_this_week}' - 364\n",
    "     )\n",
    "SELECT term_cls\n",
    "     , int_stock_qty\n",
    "     , stor_qty_kor_term\n",
    "     , sale_qty_kor_term\n",
    "     , sale_qty_w\n",
    "     , avg_4wk_sale_qty\n",
    "     , stock_kor\n",
    "     , case when sale_qty_w = 0 then 0 else ROUND(stock_kor::numeric / sale_qty_w) end           AS woi\n",
    "     , case when avg_4wk_sale_qty=0 then 0 else ROUND(stock_kor::numeric / avg_4wk_sale_qty) end AS woi_4wks\n",
    "FROM (\n",
    "         SELECT term_cls\n",
    "              , SUM(int_stock_qty)                  int_stock_qty\n",
    "              , SUM(stor_qty_kor_term)              stor_qty_kor_term\n",
    "              , SUM(sale_qty_kor_term)              sale_qty_kor_term\n",
    "              , SUM(sale_qty_w)                     sale_qty_w\n",
    "              , SUM(stock_kor)                      stock_kor\n",
    "              , ROUND(SUM(sale_qty_kor_4wk) / 4) AS avg_4wk_sale_qty\n",
    "         FROM (\n",
    "                  SELECT term_cls\n",
    "                       , 0 AS int_stock_qty\n",
    "                       , 0 AS stor_qty_kor_term\n",
    "                       , 0 AS sale_qty_kor_term\n",
    "                       , 0 AS sale_qty_w\n",
    "                       , 0 AS stock_kor\n",
    "                       , sale_qty_kor_4wk\n",
    "                  FROM sale_4wk\n",
    "                  UNION ALL\n",
    "                  SELECT term_cls\n",
    "                       , 0 AS int_stock_qty\n",
    "                       , stor_qty_kor_term\n",
    "                       , sale_qty_kor_term\n",
    "                       , sale_qty_w\n",
    "                       , stock_kor\n",
    "                       , 0 AS sale_qty_kor_4wk\n",
    "                  FROM term_sales\n",
    "                  UNION ALL\n",
    "                  SELECT term_cls\n",
    "                       , int_stock_qty\n",
    "                       , 0 AS stor_qty_kor_term\n",
    "                       , 0 AS sale_qty_kor_term\n",
    "                       , 0 AS sale_qty_w\n",
    "                       , 0 AS stock_kor\n",
    "                       , 0 AS sale_qty_kor_4wk\n",
    "                  FROM int_stock\n",
    "              ) a\n",
    "         GROUP BY term_cls\n",
    "     ) a\n",
    "ORDER BY term_cls\n",
    "\n",
    "        \"\"\".format(\n",
    "            para_brand=brand,\n",
    "            para_season=season,\n",
    "            para_season_py=season_py,\n",
    "            para_season_py2=season_py2,\n",
    "            para_category=category,\n",
    "            para_sub_category=sub_category,\n",
    "            para_adult_kids=adult_kids,\n",
    "            para_start_dt=start_dt,\n",
    "            para_end_dt=end_dt,\n",
    "            para_end_dt_this_week=end_dt_this_week,\n",
    "        )"
   ]
  },
  {
   "cell_type": "code",
   "execution_count": 47,
   "id": "2aaa12ac",
   "metadata": {},
   "outputs": [],
   "source": [
    "cursor.execute(query)"
   ]
  },
  {
   "cell_type": "code",
   "execution_count": 9,
   "id": "0d790520",
   "metadata": {},
   "outputs": [],
   "source": [
    "cursor.execute(\"ROLLBACK\")\n",
    "connect.commit()"
   ]
  },
  {
   "cell_type": "code",
   "execution_count": 48,
   "id": "cecd2bda",
   "metadata": {},
   "outputs": [],
   "source": [
    "query_output = cursor.fetchall()"
   ]
  },
  {
   "cell_type": "code",
   "execution_count": 49,
   "id": "887eadb2",
   "metadata": {},
   "outputs": [
    {
     "data": {
      "text/plain": [
       "[('당해', 152254, 8380, 7257, 7257, 7961.0, 152673, Decimal('21'), 19.0),\n",
       " ('전년', 72419, 12391, 11616, 11616, 11393.0, 73050, Decimal('6'), 6.0)]"
      ]
     },
     "execution_count": 49,
     "metadata": {},
     "output_type": "execute_result"
    }
   ],
   "source": [
    "query_output"
   ]
  },
  {
   "cell_type": "code",
   "execution_count": 50,
   "id": "ad5d2905",
   "metadata": {},
   "outputs": [],
   "source": [
    "from utils.redshift_data import RedshiftData"
   ]
  },
  {
   "cell_type": "code",
   "execution_count": 51,
   "id": "6273b323",
   "metadata": {},
   "outputs": [],
   "source": [
    "redshift_data = RedshiftData(connect, query)\n"
   ]
  },
  {
   "cell_type": "code",
   "execution_count": 52,
   "id": "0a583f74",
   "metadata": {},
   "outputs": [
    {
     "name": "stderr",
     "output_type": "stream",
     "text": [
      "/opt/homebrew/Caskroom/miniconda/base/envs/fnf/lib/python3.8/site-packages/pandas/io/sql.py:758: UserWarning: pandas only support SQLAlchemy connectable(engine/connection) ordatabase string URI or sqlite3 DBAPI2 connectionother DBAPI2 objects are not tested, please consider using SQLAlchemy\n",
      "  warnings.warn(\n"
     ]
    }
   ],
   "source": [
    "data = redshift_data.get_data()"
   ]
  },
  {
   "cell_type": "code",
   "execution_count": 54,
   "id": "616c86b5",
   "metadata": {},
   "outputs": [
    {
     "data": {
      "text/html": [
       "<div>\n",
       "<style scoped>\n",
       "    .dataframe tbody tr th:only-of-type {\n",
       "        vertical-align: middle;\n",
       "    }\n",
       "\n",
       "    .dataframe tbody tr th {\n",
       "        vertical-align: top;\n",
       "    }\n",
       "\n",
       "    .dataframe thead th {\n",
       "        text-align: right;\n",
       "    }\n",
       "</style>\n",
       "<table border=\"1\" class=\"dataframe\">\n",
       "  <thead>\n",
       "    <tr style=\"text-align: right;\">\n",
       "      <th></th>\n",
       "      <th>term_cls</th>\n",
       "      <th>int_stock_qty</th>\n",
       "      <th>stor_qty_kor_term</th>\n",
       "      <th>sale_qty_kor_term</th>\n",
       "      <th>sale_qty_w</th>\n",
       "      <th>avg_4wk_sale_qty</th>\n",
       "      <th>stock_kor</th>\n",
       "      <th>woi</th>\n",
       "      <th>woi_4wks</th>\n",
       "    </tr>\n",
       "  </thead>\n",
       "  <tbody>\n",
       "    <tr>\n",
       "      <th>0</th>\n",
       "      <td>당해</td>\n",
       "      <td>152254</td>\n",
       "      <td>8380</td>\n",
       "      <td>7257</td>\n",
       "      <td>7257</td>\n",
       "      <td>7961.0</td>\n",
       "      <td>152673</td>\n",
       "      <td>21.0</td>\n",
       "      <td>19.0</td>\n",
       "    </tr>\n",
       "    <tr>\n",
       "      <th>1</th>\n",
       "      <td>전년</td>\n",
       "      <td>72419</td>\n",
       "      <td>12391</td>\n",
       "      <td>11616</td>\n",
       "      <td>11616</td>\n",
       "      <td>11393.0</td>\n",
       "      <td>73050</td>\n",
       "      <td>6.0</td>\n",
       "      <td>6.0</td>\n",
       "    </tr>\n",
       "  </tbody>\n",
       "</table>\n",
       "</div>"
      ],
      "text/plain": [
       "  term_cls  int_stock_qty  stor_qty_kor_term  sale_qty_kor_term  sale_qty_w  \\\n",
       "0       당해         152254               8380               7257        7257   \n",
       "1       전년          72419              12391              11616       11616   \n",
       "\n",
       "   avg_4wk_sale_qty  stock_kor   woi  woi_4wks  \n",
       "0            7961.0     152673  21.0      19.0  \n",
       "1           11393.0      73050   6.0       6.0  "
      ]
     },
     "execution_count": 54,
     "metadata": {},
     "output_type": "execute_result"
    }
   ],
   "source": [
    "data"
   ]
  },
  {
   "cell_type": "code",
   "execution_count": 38,
   "id": "88824d94",
   "metadata": {},
   "outputs": [],
   "source": [
    "import pandas.io.sql as psql"
   ]
  },
  {
   "cell_type": "code",
   "execution_count": 40,
   "id": "7b0f1d6e",
   "metadata": {},
   "outputs": [
    {
     "name": "stderr",
     "output_type": "stream",
     "text": [
      "/opt/homebrew/Caskroom/miniconda/base/envs/fnf/lib/python3.8/site-packages/pandas/io/sql.py:758: UserWarning: pandas only support SQLAlchemy connectable(engine/connection) ordatabase string URI or sqlite3 DBAPI2 connectionother DBAPI2 objects are not tested, please consider using SQLAlchemy\n",
      "  warnings.warn(\n"
     ]
    },
    {
     "data": {
      "text/html": [
       "<div>\n",
       "<style scoped>\n",
       "    .dataframe tbody tr th:only-of-type {\n",
       "        vertical-align: middle;\n",
       "    }\n",
       "\n",
       "    .dataframe tbody tr th {\n",
       "        vertical-align: top;\n",
       "    }\n",
       "\n",
       "    .dataframe thead th {\n",
       "        text-align: right;\n",
       "    }\n",
       "</style>\n",
       "<table border=\"1\" class=\"dataframe\">\n",
       "  <thead>\n",
       "    <tr style=\"text-align: right;\">\n",
       "      <th></th>\n",
       "      <th>term_cls</th>\n",
       "      <th>int_stock_qty</th>\n",
       "      <th>stor_qty_kor_term</th>\n",
       "      <th>sale_qty_kor_term</th>\n",
       "      <th>sale_qty_w</th>\n",
       "      <th>avg_4wk_sale_qty</th>\n",
       "      <th>stock_kor</th>\n",
       "      <th>woi</th>\n",
       "      <th>woi_4wks</th>\n",
       "    </tr>\n",
       "  </thead>\n",
       "  <tbody>\n",
       "    <tr>\n",
       "      <th>0</th>\n",
       "      <td>당해</td>\n",
       "      <td>152254</td>\n",
       "      <td>8380</td>\n",
       "      <td>7257</td>\n",
       "      <td>7257</td>\n",
       "      <td>7961.0</td>\n",
       "      <td>152673</td>\n",
       "      <td>21.0</td>\n",
       "      <td>19.0</td>\n",
       "    </tr>\n",
       "    <tr>\n",
       "      <th>1</th>\n",
       "      <td>전년</td>\n",
       "      <td>72419</td>\n",
       "      <td>12391</td>\n",
       "      <td>11616</td>\n",
       "      <td>11616</td>\n",
       "      <td>11393.0</td>\n",
       "      <td>73050</td>\n",
       "      <td>6.0</td>\n",
       "      <td>6.0</td>\n",
       "    </tr>\n",
       "  </tbody>\n",
       "</table>\n",
       "</div>"
      ],
      "text/plain": [
       "  term_cls  int_stock_qty  stor_qty_kor_term  sale_qty_kor_term  sale_qty_w  \\\n",
       "0       당해         152254               8380               7257        7257   \n",
       "1       전년          72419              12391              11616       11616   \n",
       "\n",
       "   avg_4wk_sale_qty  stock_kor   woi  woi_4wks  \n",
       "0            7961.0     152673  21.0      19.0  \n",
       "1           11393.0      73050   6.0       6.0  "
      ]
     },
     "execution_count": 40,
     "metadata": {},
     "output_type": "execute_result"
    }
   ],
   "source": [
    "psql.read_sql(query,connect)"
   ]
  },
  {
   "cell_type": "code",
   "execution_count": null,
   "id": "165b6e21",
   "metadata": {},
   "outputs": [],
   "source": []
  },
  {
   "cell_type": "code",
   "execution_count": 59,
   "id": "80327fb5",
   "metadata": {},
   "outputs": [
    {
     "data": {
      "text/html": [
       "<div>\n",
       "<style scoped>\n",
       "    .dataframe tbody tr th:only-of-type {\n",
       "        vertical-align: middle;\n",
       "    }\n",
       "\n",
       "    .dataframe tbody tr th {\n",
       "        vertical-align: top;\n",
       "    }\n",
       "\n",
       "    .dataframe thead th {\n",
       "        text-align: right;\n",
       "    }\n",
       "</style>\n",
       "<table border=\"1\" class=\"dataframe\">\n",
       "  <thead>\n",
       "    <tr style=\"text-align: right;\">\n",
       "      <th></th>\n",
       "      <th>term_cls</th>\n",
       "      <th>int_stock_qty</th>\n",
       "      <th>stor_qty_kor_term</th>\n",
       "      <th>sale_qty_kor_term</th>\n",
       "      <th>sale_qty_w</th>\n",
       "      <th>avg_4wk_sale_qty</th>\n",
       "      <th>stock_kor</th>\n",
       "      <th>woi</th>\n",
       "      <th>woi_4wks</th>\n",
       "    </tr>\n",
       "  </thead>\n",
       "  <tbody>\n",
       "    <tr>\n",
       "      <th>0</th>\n",
       "      <td>당해</td>\n",
       "      <td>152254</td>\n",
       "      <td>8380</td>\n",
       "      <td>7257</td>\n",
       "      <td>7257</td>\n",
       "      <td>7961.0</td>\n",
       "      <td>152673</td>\n",
       "      <td>21.0</td>\n",
       "      <td>19.0</td>\n",
       "    </tr>\n",
       "    <tr>\n",
       "      <th>1</th>\n",
       "      <td>전년</td>\n",
       "      <td>72419</td>\n",
       "      <td>12391</td>\n",
       "      <td>11616</td>\n",
       "      <td>11616</td>\n",
       "      <td>11393.0</td>\n",
       "      <td>73050</td>\n",
       "      <td>6.0</td>\n",
       "      <td>6.0</td>\n",
       "    </tr>\n",
       "  </tbody>\n",
       "</table>\n",
       "</div>"
      ],
      "text/plain": [
       "  term_cls  int_stock_qty  stor_qty_kor_term  sale_qty_kor_term  sale_qty_w  \\\n",
       "0       당해         152254               8380               7257        7257   \n",
       "1       전년          72419              12391              11616       11616   \n",
       "\n",
       "   avg_4wk_sale_qty  stock_kor   woi  woi_4wks  \n",
       "0            7961.0     152673  21.0      19.0  \n",
       "1           11393.0      73050   6.0       6.0  "
      ]
     },
     "execution_count": 59,
     "metadata": {},
     "output_type": "execute_result"
    }
   ],
   "source": [
    "data"
   ]
  },
  {
   "cell_type": "code",
   "execution_count": 77,
   "id": "2ab41a9c",
   "metadata": {},
   "outputs": [],
   "source": [
    "result = [{\n",
    "    \"term_cls\": item[\"term_cls\"],                       #해당년도\n",
    "    \"int_stock_qty\": item[\"int_stock_qty\"],             #기초재고\n",
    "    \"stor_qty_kor_term\": item[\"stor_qty_kor_term\"],     #주간입고 \n",
    "    \"sale_qty_w\t\": item[\"sale_qty_w\"],                  #주간판매\n",
    "    \"avg_4wk_sale_qty\": item[\"avg_4wk_sale_qty\"],       #4주평균\n",
    "    \"stock_kor\": item[\"stock_kor\"],                     #기말재고\n",
    "    \"woi_4wks\": item[\"woi_4wks\"],                       #재고주수:4주평균     \n",
    "    }for __, item in data.iterrows()\n",
    "]"
   ]
  },
  {
   "cell_type": "code",
   "execution_count": 78,
   "id": "5f0f0645",
   "metadata": {},
   "outputs": [
    {
     "data": {
      "text/plain": [
       "[{'term_cls': '당해',\n",
       "  'int_stock_qty': 152254,\n",
       "  'stor_qty_kor_term': 8380,\n",
       "  'sale_qty_w\\t': 7257,\n",
       "  'avg_4wk_sale_qty': 7961.0,\n",
       "  'stock_kor': 152673,\n",
       "  'woi_4wks': 19.0},\n",
       " {'term_cls': '전년',\n",
       "  'int_stock_qty': 72419,\n",
       "  'stor_qty_kor_term': 12391,\n",
       "  'sale_qty_w\\t': 11616,\n",
       "  'avg_4wk_sale_qty': 11393.0,\n",
       "  'stock_kor': 73050,\n",
       "  'woi_4wks': 6.0}]"
      ]
     },
     "execution_count": 78,
     "metadata": {},
     "output_type": "execute_result"
    }
   ],
   "source": [
    "result"
   ]
  },
  {
   "cell_type": "code",
   "execution_count": 79,
   "id": "607df2d5",
   "metadata": {},
   "outputs": [
    {
     "data": {
      "text/plain": [
       "{'term_cls': '당해',\n",
       " 'int_stock_qty': 152254,\n",
       " 'stor_qty_kor_term': 8380,\n",
       " 'sale_qty_w\\t': 7257,\n",
       " 'avg_4wk_sale_qty': 7961.0,\n",
       " 'stock_kor': 152673,\n",
       " 'woi_4wks': 19.0}"
      ]
     },
     "execution_count": 79,
     "metadata": {},
     "output_type": "execute_result"
    }
   ],
   "source": [
    "result[0]"
   ]
  },
  {
   "cell_type": "code",
   "execution_count": 80,
   "id": "c91b4e39",
   "metadata": {},
   "outputs": [
    {
     "data": {
      "text/plain": [
       "73050"
      ]
     },
     "execution_count": 80,
     "metadata": {},
     "output_type": "execute_result"
    }
   ],
   "source": [
    "result[1]['stock_kor']"
   ]
  },
  {
   "cell_type": "code",
   "execution_count": null,
   "id": "488e368d",
   "metadata": {},
   "outputs": [],
   "source": []
  }
 ],
 "metadata": {
  "kernelspec": {
   "display_name": "Python 3 (ipykernel)",
   "language": "python",
   "name": "python3"
  },
  "language_info": {
   "codemirror_mode": {
    "name": "ipython",
    "version": 3
   },
   "file_extension": ".py",
   "mimetype": "text/x-python",
   "name": "python",
   "nbconvert_exporter": "python",
   "pygments_lexer": "ipython3",
   "version": "3.8.11"
  }
 },
 "nbformat": 4,
 "nbformat_minor": 5
}
